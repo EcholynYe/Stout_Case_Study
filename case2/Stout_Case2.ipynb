{
 "cells": [
  {
   "cell_type": "code",
   "execution_count": 1,
   "metadata": {},
   "outputs": [],
   "source": [
    "import pandas as pd\n",
    "import numpy as np\n",
    "import seaborn as sns\n",
    "import matplotlib.pyplot as plt\n",
    "import numpy as np"
   ]
  },
  {
   "cell_type": "code",
   "execution_count": 23,
   "metadata": {},
   "outputs": [],
   "source": [
    "data=pd.read_csv('casestudy.csv',index_col=0)"
   ]
  },
  {
   "cell_type": "code",
   "execution_count": 24,
   "metadata": {},
   "outputs": [
    {
     "data": {
      "text/html": [
       "<div>\n",
       "<style scoped>\n",
       "    .dataframe tbody tr th:only-of-type {\n",
       "        vertical-align: middle;\n",
       "    }\n",
       "\n",
       "    .dataframe tbody tr th {\n",
       "        vertical-align: top;\n",
       "    }\n",
       "\n",
       "    .dataframe thead th {\n",
       "        text-align: right;\n",
       "    }\n",
       "</style>\n",
       "<table border=\"1\" class=\"dataframe\">\n",
       "  <thead>\n",
       "    <tr style=\"text-align: right;\">\n",
       "      <th></th>\n",
       "      <th>customer_email</th>\n",
       "      <th>net_revenue</th>\n",
       "      <th>year</th>\n",
       "    </tr>\n",
       "  </thead>\n",
       "  <tbody>\n",
       "    <tr>\n",
       "      <th>0</th>\n",
       "      <td>nhknapwsbx@gmail.com</td>\n",
       "      <td>249.92</td>\n",
       "      <td>2015</td>\n",
       "    </tr>\n",
       "    <tr>\n",
       "      <th>1</th>\n",
       "      <td>joiuzbvcpn@gmail.com</td>\n",
       "      <td>87.61</td>\n",
       "      <td>2015</td>\n",
       "    </tr>\n",
       "    <tr>\n",
       "      <th>2</th>\n",
       "      <td>ukkjctepxt@gmail.com</td>\n",
       "      <td>168.38</td>\n",
       "      <td>2015</td>\n",
       "    </tr>\n",
       "    <tr>\n",
       "      <th>3</th>\n",
       "      <td>gykatilzrt@gmail.com</td>\n",
       "      <td>62.40</td>\n",
       "      <td>2015</td>\n",
       "    </tr>\n",
       "    <tr>\n",
       "      <th>4</th>\n",
       "      <td>mmsgsrtxah@gmail.com</td>\n",
       "      <td>43.08</td>\n",
       "      <td>2015</td>\n",
       "    </tr>\n",
       "  </tbody>\n",
       "</table>\n",
       "</div>"
      ],
      "text/plain": [
       "          customer_email  net_revenue  year\n",
       "0   nhknapwsbx@gmail.com       249.92  2015\n",
       "1   joiuzbvcpn@gmail.com        87.61  2015\n",
       "2   ukkjctepxt@gmail.com       168.38  2015\n",
       "3   gykatilzrt@gmail.com        62.40  2015\n",
       "4   mmsgsrtxah@gmail.com        43.08  2015"
      ]
     },
     "execution_count": 24,
     "metadata": {},
     "output_type": "execute_result"
    }
   ],
   "source": [
    "data.head()"
   ]
  },
  {
   "cell_type": "code",
   "execution_count": 41,
   "metadata": {},
   "outputs": [],
   "source": [
    "import findspark\n",
    "findspark.init()\n",
    "from pyspark import SparkContext\n",
    "sc = SparkContext() "
   ]
  },
  {
   "cell_type": "code",
   "execution_count": 42,
   "metadata": {},
   "outputs": [],
   "source": [
    "from pyspark.sql import SparkSession\n",
    "spark = SparkSession.builder.getOrCreate()"
   ]
  },
  {
   "cell_type": "code",
   "execution_count": 43,
   "metadata": {},
   "outputs": [],
   "source": [
    "from pyspark.sql.types import *"
   ]
  },
  {
   "cell_type": "code",
   "execution_count": 53,
   "metadata": {},
   "outputs": [],
   "source": [
    "data = spark.read.csv('casestudy.csv',inferSchema=True,header=True)"
   ]
  },
  {
   "cell_type": "code",
   "execution_count": 54,
   "metadata": {},
   "outputs": [],
   "source": [
    "data.createOrReplaceTempView(\"data\")"
   ]
  },
  {
   "cell_type": "markdown",
   "metadata": {},
   "source": [
    "There is 1 dataset(csv) with 3 years worth of customer orders. There are 4 columns in the csv dataset: index, CUSTOMER_EMAIL(unique identifier as hash), Net_Revenue, and Year.\n",
    "\n",
    "For each year we need the following information:\n",
    "\n",
    "* Total revenue for the current year\n",
    "* New Customer Revenue e.g. new customers not present in previous year only\n",
    "* Existing Customer Growth, Revenue of existing customers for current year – Revenue of existing customers from existing year\n",
    "* Revenue lost from attrition\n",
    "* Existing Customer Revenue Current Year\n",
    "* Existing Customer Revenue Prior Year\n",
    "* Total Customers Current Year\n",
    "* Total Customers Previous Year\n",
    "* New Customers\n",
    "* Lost Customers"
   ]
  },
  {
   "cell_type": "markdown",
   "metadata": {},
   "source": [
    "## Total revenue for the current year"
   ]
  },
  {
   "cell_type": "code",
   "execution_count": 13,
   "metadata": {},
   "outputs": [
    {
     "data": {
      "text/html": [
       "<div>\n",
       "<style scoped>\n",
       "    .dataframe tbody tr th:only-of-type {\n",
       "        vertical-align: middle;\n",
       "    }\n",
       "\n",
       "    .dataframe tbody tr th {\n",
       "        vertical-align: top;\n",
       "    }\n",
       "\n",
       "    .dataframe thead th {\n",
       "        text-align: right;\n",
       "    }\n",
       "</style>\n",
       "<table border=\"1\" class=\"dataframe\">\n",
       "  <thead>\n",
       "    <tr style=\"text-align: right;\">\n",
       "      <th></th>\n",
       "      <th>year</th>\n",
       "      <th>total_revenue</th>\n",
       "    </tr>\n",
       "  </thead>\n",
       "  <tbody>\n",
       "    <tr>\n",
       "      <th>0</th>\n",
       "      <td>2015</td>\n",
       "      <td>29036749.19</td>\n",
       "    </tr>\n",
       "    <tr>\n",
       "      <th>1</th>\n",
       "      <td>2016</td>\n",
       "      <td>25730943.59</td>\n",
       "    </tr>\n",
       "    <tr>\n",
       "      <th>2</th>\n",
       "      <td>2017</td>\n",
       "      <td>31417495.03</td>\n",
       "    </tr>\n",
       "  </tbody>\n",
       "</table>\n",
       "</div>"
      ],
      "text/plain": [
       "   year  total_revenue\n",
       "0  2015    29036749.19\n",
       "1  2016    25730943.59\n",
       "2  2017    31417495.03"
      ]
     },
     "execution_count": 13,
     "metadata": {},
     "output_type": "execute_result"
    }
   ],
   "source": [
    "total_revenue_current_year=data[['net_revenue','year']].groupby('year').sum().reset_index().rename(columns={'net_revenue':'total_revenue'})\n",
    "total_revenue_current_year"
   ]
  },
  {
   "cell_type": "code",
   "execution_count": 55,
   "metadata": {},
   "outputs": [
    {
     "name": "stdout",
     "output_type": "stream",
     "text": [
      "+----+--------------------+\n",
      "|year|       total_revenue|\n",
      "+----+--------------------+\n",
      "|2015|2.9036749189999793E7|\n",
      "|2016|2.5730943590000015E7|\n",
      "|2017|3.1417495030000173E7|\n",
      "+----+--------------------+\n",
      "\n"
     ]
    }
   ],
   "source": [
    "spark.sql('''\n",
    "SELECT year, sum(net_revenue) as total_revenue\n",
    "  FROM data\n",
    "  GROUP BY year\n",
    "''').show()"
   ]
  },
  {
   "cell_type": "markdown",
   "metadata": {},
   "source": [
    "## New Customer Revenue"
   ]
  },
  {
   "cell_type": "markdown",
   "metadata": {},
   "source": [
    "For year 2015, we can't calculate new customer revenue, for we don't know the data in 2014.\n",
    "\n",
    "For year 2016, new customers are customers who didn't purchase in 2015 but purchased in 2016.\n",
    "\n",
    "For year 2017, new customers are customers who didn't purchase in 2016 but purchased in 2017."
   ]
  },
  {
   "cell_type": "code",
   "execution_count": 70,
   "metadata": {},
   "outputs": [
    {
     "name": "stdout",
     "output_type": "stream",
     "text": [
      "+----+--------------------+\n",
      "|year|    sum(net_revenue)|\n",
      "+----+--------------------+\n",
      "|2016|1.8245491010000005E7|\n",
      "|2017|       2.877623504E7|\n",
      "+----+--------------------+\n",
      "\n"
     ]
    }
   ],
   "source": [
    "spark.sql('''\n",
    "SELECT d.year, SUM(d.net_revenue)\n",
    "FROM\n",
    "(SELECT d1.customer_email, d1.net_revenue,d1.year\n",
    "  FROM data d1\n",
    "  LEFT JOIN data d2 on d1.customer_email=d2.customer_email AND d1.year=d2.year+1\n",
    "  WHERE d2.customer_email IS NULL AND d1.year!=2015) d\n",
    "GROUP BY d.year\n",
    "''').show()"
   ]
  },
  {
   "cell_type": "markdown",
   "metadata": {},
   "source": [
    "## Existing Customer Growth, Revenue of existing customers for current year – Revenue of existing customers from existing year"
   ]
  },
  {
   "cell_type": "markdown",
   "metadata": {},
   "source": [
    "For year 2015, we can't calculate Existing Customer Growth.\n",
    "\n",
    "For year 2016, Existing Customer are customers who purchased in 2015 and also purchased in 2016.\n",
    "\n",
    "For year 2017, Existing Customer are customers who purchased in 2016 and also purchased in 2017."
   ]
  },
  {
   "cell_type": "code",
   "execution_count": 105,
   "metadata": {},
   "outputs": [
    {
     "name": "stdout",
     "output_type": "stream",
     "text": [
      "+----+------------------+\n",
      "|year|  sum(net_revenue)|\n",
      "+----+------------------+\n",
      "|2016| 7485452.579999998|\n",
      "|2017|2641259.9900000016|\n",
      "+----+------------------+\n",
      "\n"
     ]
    }
   ],
   "source": [
    "spark.sql('''\n",
    "SELECT d.year, SUM(d.net_revenue)\n",
    "FROM\n",
    "(SELECT d1.customer_email, d1.net_revenue,d1.year\n",
    "  FROM data d1\n",
    "  LEFT JOIN data d2 on d1.customer_email=d2.customer_email AND d1.year=d2.year+1\n",
    "  WHERE d2.customer_email IS NOT NULL AND d1.year!=2015) d\n",
    "GROUP BY d.year\n",
    "''').show()"
   ]
  },
  {
   "cell_type": "markdown",
   "metadata": {},
   "source": [
    "## Revenue lost from attrition"
   ]
  },
  {
   "cell_type": "markdown",
   "metadata": {},
   "source": [
    "To calculate revenue lost from attrition:\n",
    "\n",
    "1. consider client who purchase in last year, but not purchase in this year as lost clients.\n",
    "\n",
    "2. in this year, assume lost client purchase the same amount as last year\n",
    "\n",
    "For year 2015, we can't calculate revenue lost from attrition, for we don't know the data in 2014.\n",
    "\n",
    "For year 2016, lost customers are customers who purchased in 2015 but didn't purchase in 2016. We calculate the revenue for lost customers in 2015.\n",
    "\n",
    "For year 2017, lost customers are customers who purchased in 2016 but didn't purchase in 2017. We calculate the revenue for lost customers in 2016."
   ]
  },
  {
   "cell_type": "code",
   "execution_count": 107,
   "metadata": {},
   "outputs": [
    {
     "name": "stdout",
     "output_type": "stream",
     "text": [
      "+----+--------------------+\n",
      "|year|    sum(net_revenue)|\n",
      "+----+--------------------+\n",
      "|2015|2.1571632070000015E7|\n",
      "|2016|2.3110294939999998E7|\n",
      "+----+--------------------+\n",
      "\n"
     ]
    }
   ],
   "source": [
    "spark.sql('''\n",
    "SELECT d.year, SUM(d.net_revenue)\n",
    "FROM\n",
    "(SELECT d1.customer_email, d1.net_revenue,d1.year\n",
    "  FROM data d1\n",
    "  LEFT JOIN data d2 on d1.customer_email=d2.customer_email AND d1.year=d2.year-1\n",
    "  WHERE d2.customer_email IS NULL AND d1.year!=2017) d\n",
    "GROUP BY d.year\n",
    "''').show()"
   ]
  },
  {
   "cell_type": "markdown",
   "metadata": {},
   "source": [
    "Thus, for year 2016, Revenue lost from attrition is 21571632.070000015.\n",
    "\n",
    "For year 2017, Revenue lost from attrition is 23110294.939999998."
   ]
  },
  {
   "cell_type": "markdown",
   "metadata": {},
   "source": [
    "## Existing Customer Revenue Current Year"
   ]
  },
  {
   "cell_type": "markdown",
   "metadata": {},
   "source": [
    "For year 2015, we can't calculate Existing Customer Growth.\n",
    "\n",
    "For year 2016, Existing Customer are customers who purchased in 2015 and also purchased in 2016.\n",
    "\n",
    "For year 2017, Existing Customer are customers who purchased in 2016 and also purchased in 2017."
   ]
  },
  {
   "cell_type": "code",
   "execution_count": 112,
   "metadata": {},
   "outputs": [
    {
     "name": "stdout",
     "output_type": "stream",
     "text": [
      "+----+------------------+\n",
      "|year|  sum(net_revenue)|\n",
      "+----+------------------+\n",
      "|2016| 7485452.579999998|\n",
      "|2017|2641259.9900000016|\n",
      "+----+------------------+\n",
      "\n"
     ]
    }
   ],
   "source": [
    "spark.sql('''\n",
    "SELECT d.year, SUM(d.net_revenue)\n",
    "FROM\n",
    "(SELECT d1.customer_email, d1.net_revenue,d1.year\n",
    "  FROM data d1\n",
    "  LEFT JOIN data d2 on d1.customer_email=d2.customer_email AND d1.year=d2.year+1\n",
    "  WHERE d2.customer_email IS NOT NULL AND d1.year!=2015) d\n",
    "GROUP BY d.year\n",
    "''').show()"
   ]
  },
  {
   "cell_type": "markdown",
   "metadata": {},
   "source": [
    "## Existing Customer Revenue Prior Year"
   ]
  },
  {
   "cell_type": "markdown",
   "metadata": {},
   "source": [
    "For year 2015, we can't calculate Existing Customer Revenue Prior Year.\n",
    "\n",
    "For year 2016, Existing Customer are customers who purchased in 2015 and also purchased in 2016.\n",
    "\n",
    "For year 2017, Existing Customer are customers who purchased in 2016 and also purchased in 2017."
   ]
  },
  {
   "cell_type": "code",
   "execution_count": 114,
   "metadata": {},
   "outputs": [
    {
     "name": "stdout",
     "output_type": "stream",
     "text": [
      "+----+------------------+\n",
      "|year|  sum(net_revenue)|\n",
      "+----+------------------+\n",
      "|2016|7465117.1199999945|\n",
      "|2017| 2620648.650000002|\n",
      "+----+------------------+\n",
      "\n"
     ]
    }
   ],
   "source": [
    "spark.sql('''\n",
    "SELECT d.year, SUM(d.net_revenue)\n",
    "FROM\n",
    "(SELECT d2.customer_email, d2.net_revenue,d1.year\n",
    "  FROM data d1\n",
    "  LEFT JOIN data d2 on d1.customer_email=d2.customer_email AND d1.year=d2.year+1\n",
    "  WHERE d2.customer_email IS NOT NULL AND d1.year!=2015) d\n",
    "GROUP BY d.year\n",
    "''').show()"
   ]
  },
  {
   "cell_type": "markdown",
   "metadata": {},
   "source": [
    "## Total Customers Current Year"
   ]
  },
  {
   "cell_type": "code",
   "execution_count": 12,
   "metadata": {},
   "outputs": [
    {
     "data": {
      "text/html": [
       "<div>\n",
       "<style scoped>\n",
       "    .dataframe tbody tr th:only-of-type {\n",
       "        vertical-align: middle;\n",
       "    }\n",
       "\n",
       "    .dataframe tbody tr th {\n",
       "        vertical-align: top;\n",
       "    }\n",
       "\n",
       "    .dataframe thead th {\n",
       "        text-align: right;\n",
       "    }\n",
       "</style>\n",
       "<table border=\"1\" class=\"dataframe\">\n",
       "  <thead>\n",
       "    <tr style=\"text-align: right;\">\n",
       "      <th></th>\n",
       "      <th>year</th>\n",
       "      <th>total_customer</th>\n",
       "    </tr>\n",
       "  </thead>\n",
       "  <tbody>\n",
       "    <tr>\n",
       "      <th>0</th>\n",
       "      <td>2015</td>\n",
       "      <td>231294</td>\n",
       "    </tr>\n",
       "    <tr>\n",
       "      <th>1</th>\n",
       "      <td>2016</td>\n",
       "      <td>204646</td>\n",
       "    </tr>\n",
       "    <tr>\n",
       "      <th>2</th>\n",
       "      <td>2017</td>\n",
       "      <td>249987</td>\n",
       "    </tr>\n",
       "  </tbody>\n",
       "</table>\n",
       "</div>"
      ],
      "text/plain": [
       "   year  total_customer\n",
       "0  2015          231294\n",
       "1  2016          204646\n",
       "2  2017          249987"
      ]
     },
     "execution_count": 12,
     "metadata": {},
     "output_type": "execute_result"
    }
   ],
   "source": [
    "total_customers_current_year=data[['customer_email','year']].groupby('year').nunique().reset_index().rename(columns={'customer_email':'total_customer'})\n",
    "total_customers_current_year"
   ]
  },
  {
   "cell_type": "code",
   "execution_count": 63,
   "metadata": {},
   "outputs": [
    {
     "name": "stdout",
     "output_type": "stream",
     "text": [
      "+----+------------------------------+\n",
      "|year|count(DISTINCT customer_email)|\n",
      "+----+------------------------------+\n",
      "|2015|                        231294|\n",
      "|2016|                        204646|\n",
      "|2017|                        249987|\n",
      "+----+------------------------------+\n",
      "\n"
     ]
    }
   ],
   "source": [
    "spark.sql('''\n",
    "SELECT year, COUNT(DISTINCT customer_email)\n",
    "  FROM data\n",
    "  GROUP BY year\n",
    "''').show()"
   ]
  },
  {
   "cell_type": "markdown",
   "metadata": {},
   "source": [
    "## Total Customers Previous Year"
   ]
  },
  {
   "cell_type": "markdown",
   "metadata": {},
   "source": [
    "It's silimiar as Total Customers Current Year.\n",
    "\n",
    "For year 2015, we can't calculate Total Customers Previous Year, for we don't know the data in 2014.\n",
    "\n",
    "For year 2016, the Total Customers Previous Year is 231294.\n",
    "\n",
    "For year 2017, the Total Customers Previous Year is 204646.\n",
    "\n",
    "For year 2018, the Total Customers Previous Year is 249987."
   ]
  },
  {
   "cell_type": "markdown",
   "metadata": {},
   "source": [
    "## New Customers"
   ]
  },
  {
   "cell_type": "markdown",
   "metadata": {},
   "source": [
    "For year 2015, we can't calculate new customer, for we don't know the data in 2014.\n",
    "\n",
    "For year 2016, new customers are customers who didn't purchase in 2015 but purchased in 2016.\n",
    "\n",
    "For year 2017, new customers are customers who didn't purchase in 2016 but purchased in 2017."
   ]
  },
  {
   "cell_type": "code",
   "execution_count": 106,
   "metadata": {},
   "outputs": [
    {
     "name": "stdout",
     "output_type": "stream",
     "text": [
      "+----+------------------------------+\n",
      "|year|count(DISTINCT customer_email)|\n",
      "+----+------------------------------+\n",
      "|2016|                        145062|\n",
      "|2017|                        229028|\n",
      "+----+------------------------------+\n",
      "\n"
     ]
    }
   ],
   "source": [
    "spark.sql('''\n",
    "SELECT d.year, COUNT(DISTINCT customer_email)\n",
    "FROM\n",
    "(SELECT d1.customer_email, d1.net_revenue,d1.year\n",
    "  FROM data d1\n",
    "  LEFT JOIN data d2 on d1.customer_email=d2.customer_email AND d1.year=d2.year+1\n",
    "  WHERE d2.customer_email IS NULL AND d1.year!=2015) d\n",
    "GROUP BY d.year\n",
    "''').show()"
   ]
  },
  {
   "cell_type": "code",
   "execution_count": 108,
   "metadata": {},
   "outputs": [
    {
     "name": "stdout",
     "output_type": "stream",
     "text": [
      "+--------------------+-----------+----+\n",
      "|      customer_email|net_revenue|year|\n",
      "+--------------------+-----------+----+\n",
      "| abkfhjrhmx@gmail...|      162.2|2017|\n",
      "| acruircmdh@gmail...|     193.56|2016|\n",
      "| aedfrodllx@gmail...|     169.17|2017|\n",
      "| ajuwddxogq@gmail...|      26.66|2017|\n",
      "| ajwdtypwub@gmail...|     118.07|2017|\n",
      "| akiqsdaifp@gmail...|     136.51|2017|\n",
      "| akmswmtkgk@gmail...|       8.37|2016|\n",
      "| amvidxhcys@gmail...|     159.91|2016|\n",
      "| anmozpiryh@gmail...|     231.52|2017|\n",
      "| aogoqhbmbc@gmail...|       6.29|2017|\n",
      "| aohgiakgpb@gmail...|     178.62|2016|\n",
      "| aojgacbnzp@gmail...|     227.46|2016|\n",
      "| apcizyqxlr@gmail...|     197.62|2016|\n",
      "| asmaezmqgf@gmail...|     162.76|2017|\n",
      "| atasquacag@gmail...|      16.88|2017|\n",
      "| atbzzkhcxh@gmail...|      20.15|2017|\n",
      "| auvjqaoxsh@gmail...|     125.48|2017|\n",
      "| axdjmivvdy@gmail...|     126.92|2016|\n",
      "| aymhbujibl@gmail...|     116.06|2016|\n",
      "| azfbhgvcow@gmail...|     176.88|2016|\n",
      "+--------------------+-----------+----+\n",
      "only showing top 20 rows\n",
      "\n"
     ]
    }
   ],
   "source": [
    "spark.sql('''\n",
    "SELECT d1.customer_email, d1.net_revenue,d1.year\n",
    "  FROM data d1\n",
    "  LEFT JOIN data d2 on d1.customer_email=d2.customer_email AND d1.year=d2.year+1\n",
    "  WHERE d2.customer_email IS NULL AND d1.year!=2015\n",
    "''').show()"
   ]
  },
  {
   "cell_type": "markdown",
   "metadata": {},
   "source": [
    "## Lost Customers"
   ]
  },
  {
   "cell_type": "markdown",
   "metadata": {},
   "source": [
    "For year 2015, we can't calculate lost customers, for we don't know the data in 2014.\n",
    "\n",
    "For year 2016, lost customers are customers who purchased in 2015 but didn't purchase in 2016.\n",
    "\n",
    "For year 2017, lost customers are customers who purchased in 2016 but didn't purchase in 2017."
   ]
  },
  {
   "cell_type": "code",
   "execution_count": 109,
   "metadata": {},
   "outputs": [
    {
     "name": "stdout",
     "output_type": "stream",
     "text": [
      "+----+------------------------------+\n",
      "|year|count(DISTINCT customer_email)|\n",
      "+----+------------------------------+\n",
      "|2015|                        171710|\n",
      "|2016|                        183687|\n",
      "+----+------------------------------+\n",
      "\n"
     ]
    }
   ],
   "source": [
    "spark.sql('''\n",
    "SELECT d.year, COUNT(DISTINCT customer_email)\n",
    "FROM\n",
    "(SELECT d1.customer_email, d1.net_revenue,d1.year\n",
    "  FROM data d1\n",
    "  LEFT JOIN data d2 on d1.customer_email=d2.customer_email AND d1.year=d2.year-1\n",
    "  WHERE d2.customer_email IS NULL AND d1.year!=2017) d\n",
    "GROUP BY d.year\n",
    "''').show()"
   ]
  },
  {
   "cell_type": "markdown",
   "metadata": {},
   "source": [
    "Thus, for year 2016, number of lost customers is 171710.\n",
    "\n",
    "For year 2017, number of lost customers is 183687."
   ]
  },
  {
   "cell_type": "markdown",
   "metadata": {},
   "source": [
    "The list of lost customers are listed below. The year is the purchase year.\n",
    "\n",
    "For example, for customer acruircmdh@gmail.com, the listed year is 2016. Thus, he/she is a lost customer in year 2017."
   ]
  },
  {
   "cell_type": "code",
   "execution_count": 110,
   "metadata": {},
   "outputs": [
    {
     "name": "stdout",
     "output_type": "stream",
     "text": [
      "+--------------------+-----------+----+\n",
      "|      customer_email|net_revenue|year|\n",
      "+--------------------+-----------+----+\n",
      "| acruircmdh@gmail...|     193.56|2016|\n",
      "| adxrqqcpnk@gmail...|     179.36|2015|\n",
      "| agekxcxost@gmail...|      81.99|2016|\n",
      "| agmwecakcw@gmail...|     168.78|2015|\n",
      "| agrmxjhfuw@gmail...|      81.92|2016|\n",
      "| ajcyofdwpx@gmail...|       9.48|2016|\n",
      "| ajlbrfghkl@gmail...|      16.91|2015|\n",
      "| akmswmtkgk@gmail...|       8.37|2016|\n",
      "| alntshbyqu@gmail...|      67.21|2015|\n",
      "| altvwkiedk@gmail...|      225.7|2015|\n",
      "| amvidxhcys@gmail...|     159.91|2016|\n",
      "| anvlqeznxf@gmail...|       4.08|2015|\n",
      "| aohgiakgpb@gmail...|     178.62|2016|\n",
      "| aojgacbnzp@gmail...|     227.46|2016|\n",
      "| aolzejffob@gmail...|     234.19|2015|\n",
      "| apcizyqxlr@gmail...|     197.62|2016|\n",
      "| aquhxcswqb@gmail...|      51.42|2015|\n",
      "| aqzehwqcul@gmail...|      94.26|2015|\n",
      "| aswrlnaoas@gmail...|      90.59|2015|\n",
      "| auteybbbtk@gmail...|      57.48|2015|\n",
      "+--------------------+-----------+----+\n",
      "only showing top 20 rows\n",
      "\n"
     ]
    }
   ],
   "source": [
    "spark.sql('''\n",
    "SELECT d1.customer_email, d1.net_revenue,d1.year\n",
    "  FROM data d1\n",
    "  LEFT JOIN data d2 on d1.customer_email=d2.customer_email AND d1.year=d2.year-1\n",
    "  WHERE d2.customer_email IS NULL AND d1.year!=2017\n",
    "''').show()"
   ]
  },
  {
   "cell_type": "code",
   "execution_count": null,
   "metadata": {},
   "outputs": [],
   "source": []
  }
 ],
 "metadata": {
  "kernelspec": {
   "display_name": "Python 3",
   "language": "python",
   "name": "python3"
  },
  "language_info": {
   "codemirror_mode": {
    "name": "ipython",
    "version": 3
   },
   "file_extension": ".py",
   "mimetype": "text/x-python",
   "name": "python",
   "nbconvert_exporter": "python",
   "pygments_lexer": "ipython3",
   "version": "3.8.5"
  }
 },
 "nbformat": 4,
 "nbformat_minor": 4
}
